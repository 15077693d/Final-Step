{
 "cells": [
  {
   "cell_type": "markdown",
   "metadata": {
    "colab_type": "text",
    "id": "CHSnQoMnIJO7"
   },
   "source": [
    "# Import library"
   ]
  },
  {
   "cell_type": "code",
   "execution_count": 1,
   "metadata": {
    "colab": {},
    "colab_type": "code",
    "id": "NXsw5I2VuC2H"
   },
   "outputs": [],
   "source": [
    "import os\n",
    "os.environ[\"CUDA_VISIBLE_DEVICES\"] = \"0\""
   ]
  },
  {
   "cell_type": "code",
   "execution_count": null,
   "metadata": {
    "colab": {
     "base_uri": "https://localhost:8080/",
     "height": 81
    },
    "colab_type": "code",
    "executionInfo": {
     "elapsed": 2703,
     "status": "ok",
     "timestamp": 1581121002883,
     "user": {
      "displayName": "Oscar Yiu",
      "photoUrl": "",
      "userId": "12083614802581609051"
     },
     "user_tz": -480
    },
    "id": "jI2Z-jW1IiDS",
    "outputId": "4c73fd39-ed7e-4485-fdf8-4bfb81b3fb30"
   },
   "outputs": [],
   "source": [
    "from keras.applications import vgg16\n",
    "from keras.applications import resnet_v2\n",
    "\n",
    "import numpy as np\n",
    "from keras.layers import Dense, Dropout, Flatten\n",
    "from keras import callbacks\n",
    "from keras.preprocessing.image import ImageDataGenerator\n",
    "import matplotlib.pyplot as plt\n",
    "from keras.models import Model \n",
    "from IPython.display import clear_output\n",
    "from keras.models import model_from_json\n",
    "%matplotlib inline"
   ]
  },
  {
   "cell_type": "markdown",
   "metadata": {
    "colab_type": "text",
    "id": "E7jxC3pnKg05"
   },
   "source": [
    "# Split train date to 10 folder"
   ]
  },
  {
   "cell_type": "code",
   "execution_count": 12,
   "metadata": {
    "colab": {},
    "colab_type": "code",
    "id": "gsElJbt0S_qo"
   },
   "outputs": [],
   "source": [
    "# 1. Make dir\n",
    "for i in range(0,10):\n",
    "    path=f'./train/{i}'\n",
    "    if (os.path.isdir(path)==False):\n",
    "            os.mkdir(path)"
   ]
  },
  {
   "cell_type": "code",
   "execution_count": 13,
   "metadata": {
    "colab": {},
    "colab_type": "code",
    "id": "EBUUBtnEU7lv"
   },
   "outputs": [],
   "source": [
    "# 2. Split folder\n",
    "amount=0\n",
    "for file in os.scandir('./train/'):\n",
    "    if ( os.path.isdir(file.path)==False and file.path.endswith('.png')):\n",
    "            fileDir=file.path[-5]\n",
    "            newPart=f'train/{fileDir}/'\n",
    "            newPath=file.path.replace('train/',newPart)\n",
    "            os.rename(file.path,newPath)\n",
    "            amount+=1\n",
    "            print(amount)\n",
    "            if amount%100==0:\n",
    "                 clear_output()\n"
   ]
  },
  {
   "cell_type": "markdown",
   "metadata": {
    "colab_type": "text",
    "id": "xGqonH6QJra5"
   },
   "source": [
    "# Transferlearning vgg16 model "
   ]
  },
  {
   "cell_type": "markdown",
   "metadata": {
    "colab_type": "text",
    "id": "Co3yDBtIIFrq"
   },
   "source": [
    "## Import image by ImageDataGenerators"
   ]
  },
  {
   "cell_type": "code",
   "execution_count": 12,
   "metadata": {
    "colab": {
     "base_uri": "https://localhost:8080/",
     "height": 52
    },
    "colab_type": "code",
    "executionInfo": {
     "elapsed": 95174,
     "status": "ok",
     "timestamp": 1581121108533,
     "user": {
      "displayName": "Oscar Yiu",
      "photoUrl": "",
      "userId": "12083614802581609051"
     },
     "user_tz": -480
    },
    "id": "rGhntgOjIIqM",
    "outputId": "6cdd121c-555f-4aaa-fad6-c596de5117dd"
   },
   "outputs": [
    {
     "name": "stdout",
     "output_type": "stream",
     "text": [
      "Found 50001 images belonging to 10 classes.\n",
      "Found 100 images belonging to 2 classes.\n"
     ]
    }
   ],
   "source": [
    "train_datagen = ImageDataGenerator(\n",
    "        rotation_range=20,\n",
    "        zoom_range=0.15,\n",
    "        width_shift_range=0.2,\n",
    "        height_shift_range=0.2,\n",
    "        shear_range=0.15,\n",
    "        horizontal_flip=True,\n",
    "        fill_mode=\"nearest\",\n",
    "        preprocessing_function=vgg16.preprocess_input)\n",
    "test_datagen = ImageDataGenerator(preprocessing_function=vgg16.preprocess_input)\n",
    "\n",
    "train_generator = train_datagen.flow_from_directory(\n",
    "    directory=r\"./train\",\n",
    "    target_size=(64, 64),\n",
    "    color_mode=\"rgb\",\n",
    "    batch_size=15,\n",
    "    class_mode=\"categorical\",\n",
    "    shuffle=True,\n",
    "    seed=42\n",
    ")\n",
    "\n",
    "test_generator = test_datagen.flow_from_directory(\n",
    "    directory=r\"./test\",\n",
    "    target_size=(64, 64),\n",
    "    color_mode=\"rgb\",\n",
    "    batch_size=1,\n",
    "    class_mode=None,\n",
    "    shuffle=False,\n",
    "    seed=42\n",
    ")\n",
    "\n",
    "STEP_SIZE_TRAIN=train_generator.n//train_generator.batch_size\n",
    "STEP_SIZE_TEST=test_generator.n"
   ]
  },
  {
   "cell_type": "markdown",
   "metadata": {
    "colab_type": "text",
    "id": "KCE1oDNVwKeF"
   },
   "source": [
    "## Define Model"
   ]
  },
  {
   "cell_type": "code",
   "execution_count": 16,
   "metadata": {
    "colab": {
     "base_uri": "https://localhost:8080/",
     "height": 510
    },
    "colab_type": "code",
    "executionInfo": {
     "elapsed": 45995,
     "status": "ok",
     "timestamp": 1581121118411,
     "user": {
      "displayName": "Oscar Yiu",
      "photoUrl": "",
      "userId": "12083614802581609051"
     },
     "user_tz": -480
    },
    "id": "b0FcEI4IJ6ly",
    "outputId": "44a47a24-13dc-4ab8-baee-411e63554e65"
   },
   "outputs": [
    {
     "name": "stderr",
     "output_type": "stream",
     "text": [
      "WARNING: Logging before flag parsing goes to stderr.\n",
      "W0208 08:51:15.057378 4592270784 deprecation_wrapper.py:119] From /Library/Frameworks/Python.framework/Versions/3.7/lib/python3.7/site-packages/keras/backend/tensorflow_backend.py:66: The name tf.get_default_graph is deprecated. Please use tf.compat.v1.get_default_graph instead.\n",
      "\n",
      "W0208 08:51:15.115659 4592270784 deprecation_wrapper.py:119] From /Library/Frameworks/Python.framework/Versions/3.7/lib/python3.7/site-packages/keras/backend/tensorflow_backend.py:541: The name tf.placeholder is deprecated. Please use tf.compat.v1.placeholder instead.\n",
      "\n",
      "W0208 08:51:15.151080 4592270784 deprecation_wrapper.py:119] From /Library/Frameworks/Python.framework/Versions/3.7/lib/python3.7/site-packages/keras/backend/tensorflow_backend.py:4432: The name tf.random_uniform is deprecated. Please use tf.random.uniform instead.\n",
      "\n",
      "W0208 08:51:15.238459 4592270784 deprecation_wrapper.py:119] From /Library/Frameworks/Python.framework/Versions/3.7/lib/python3.7/site-packages/keras/backend/tensorflow_backend.py:4267: The name tf.nn.max_pool is deprecated. Please use tf.nn.max_pool2d instead.\n",
      "\n",
      "W0208 08:51:15.875354 4592270784 deprecation_wrapper.py:119] From /Library/Frameworks/Python.framework/Versions/3.7/lib/python3.7/site-packages/keras/backend/tensorflow_backend.py:190: The name tf.get_default_session is deprecated. Please use tf.compat.v1.get_default_session instead.\n",
      "\n",
      "W0208 08:51:15.876811 4592270784 deprecation_wrapper.py:119] From /Library/Frameworks/Python.framework/Versions/3.7/lib/python3.7/site-packages/keras/backend/tensorflow_backend.py:197: The name tf.ConfigProto is deprecated. Please use tf.compat.v1.ConfigProto instead.\n",
      "\n",
      "W0208 08:51:16.878911 4592270784 deprecation.py:506] From /Library/Frameworks/Python.framework/Versions/3.7/lib/python3.7/site-packages/keras/backend/tensorflow_backend.py:3733: calling dropout (from tensorflow.python.ops.nn_ops) with keep_prob is deprecated and will be removed in a future version.\n",
      "Instructions for updating:\n",
      "Please use `rate` instead of `keep_prob`. Rate should be set to `rate = 1 - keep_prob`.\n"
     ]
    }
   ],
   "source": [
    "base_model = vgg16.VGG16(weights='imagenet', include_top=False, input_shape=(64, 64, 3))\n",
    "x = base_model.output\n",
    "x = Flatten()(x)\n",
    "x = Dense(128, activation='relu')(x)        # new FC layer, random init\n",
    "x = Dense(128, activation='relu')(x)        # new FC layer, random init\n",
    "x = Dropout(0.2)(x)\n",
    "predictions = Dense(10, activation='softmax')(x)  # 10 labels\n",
    "\n",
    "model = Model(inputs=base_model.input, outputs=predictions)\n",
    "\n",
    "for layer in base_model.layers:\n",
    "  layer.trainable = False"
   ]
  },
  {
   "cell_type": "markdown",
   "metadata": {
    "colab_type": "text",
    "id": "ASkb0pe0lhw6"
   },
   "source": [
    "## Complie and fit model"
   ]
  },
  {
   "cell_type": "code",
   "execution_count": 13,
   "metadata": {
    "colab": {
     "base_uri": "https://localhost:8080/",
     "height": 87
    },
    "colab_type": "code",
    "executionInfo": {
     "elapsed": 904,
     "status": "ok",
     "timestamp": 1581121119381,
     "user": {
      "displayName": "Oscar Yiu",
      "photoUrl": "",
      "userId": "12083614802581609051"
     },
     "user_tz": -480
    },
    "id": "akKZOzaClldF",
    "outputId": "6f1f0596-679c-4fb5-8a56-5887f6e2395c"
   },
   "outputs": [],
   "source": [
    "#   Define model compile for basic Transfer Learning\n",
    "model.compile(optimizer='adam', loss='categorical_crossentropy', metrics=['accuracy'])"
   ]
  },
  {
   "cell_type": "code",
   "execution_count": null,
   "metadata": {
    "colab": {
     "base_uri": "https://localhost:8080/",
     "height": 195
    },
    "colab_type": "code",
    "executionInfo": {
     "elapsed": 20284,
     "status": "error",
     "timestamp": 1580899275980,
     "user": {
      "displayName": "Oscar Yiu",
      "photoUrl": "",
      "userId": "12083614802581609051"
     },
     "user_tz": -480
    },
    "id": "1Ts2pqOBplti",
    "outputId": "be6bf3cf-f2c6-47a3-f9bb-3dcc1974736d"
   },
   "outputs": [
    {
     "name": "stdout",
     "output_type": "stream",
     "text": [
      "Epoch 1/20\n",
      "3333/3333 [==============================] - 1568s 471ms/step - loss: 0.7336 - acc: 0.7649\n",
      "Epoch 2/20\n",
      "3333/3333 [==============================] - 1435s 430ms/step - loss: 0.7191 - acc: 0.7670\n",
      "Epoch 3/20\n",
      "3333/3333 [==============================] - 1636s 491ms/step - loss: 0.7148 - acc: 0.7688\n",
      "Epoch 4/20\n",
      "3333/3333 [==============================] - 1571s 471ms/step - loss: 0.7149 - acc: 0.7710\n",
      "Epoch 5/20\n",
      "3333/3333 [==============================] - 1530s 459ms/step - loss: 0.7131 - acc: 0.7679\n",
      "Epoch 6/20\n",
      "3333/3333 [==============================] - 1559s 468ms/step - loss: 0.7075 - acc: 0.7707\n",
      "Epoch 7/20\n",
      " 108/3333 [..............................] - ETA: 31:08 - loss: 0.6940 - acc: 0.7765"
     ]
    }
   ],
   "source": [
    "for i in range(20):\n",
    "    model.fit_generator(\n",
    "                                generator=train_generator,\n",
    "                                steps_per_epoch=STEP_SIZE_TRAIN,\n",
    "                                epochs=20\n",
    "                            )\n",
    "    model_structure=model.to_json()\n",
    "    with open(\"./vgg16/model.json\", \"w\") as json_file:\n",
    "        json_file.write(model_structure)\n",
    "        model.save_weights('./vgg16/weight.h5')"
   ]
  },
  {
   "cell_type": "markdown",
   "metadata": {
    "colab_type": "text",
    "id": "K46whzDeh3aH"
   },
   "source": [
    "## Prediction"
   ]
  },
  {
   "cell_type": "code",
   "execution_count": 19,
   "metadata": {
    "colab": {
     "base_uri": "https://localhost:8080/",
     "height": 35
    },
    "colab_type": "code",
    "executionInfo": {
     "elapsed": 2619,
     "status": "ok",
     "timestamp": 1581097082605,
     "user": {
      "displayName": "Oscar Yiu",
      "photoUrl": "",
      "userId": "12083614802581609051"
     },
     "user_tz": -480
    },
    "id": "RtqVK67mjc12",
    "outputId": "78e7a60c-0722-4892-9dd7-a6c956edaeac"
   },
   "outputs": [
    {
     "name": "stdout",
     "output_type": "stream",
     "text": [
      "100/100 [==============================] - 2s 19ms/step\n"
     ]
    }
   ],
   "source": [
    "test_generator.reset()\n",
    "pred=model.predict_generator(test_generator,\n",
    "steps=STEP_SIZE_TEST,\n",
    "verbose=1)"
   ]
  },
  {
   "cell_type": "code",
   "execution_count": 20,
   "metadata": {
    "colab": {
     "base_uri": "https://localhost:8080/",
     "height": 72
    },
    "colab_type": "code",
    "executionInfo": {
     "elapsed": 598,
     "status": "ok",
     "timestamp": 1581097084970,
     "user": {
      "displayName": "Oscar Yiu",
      "photoUrl": "",
      "userId": "12083614802581609051"
     },
     "user_tz": -480
    },
    "id": "aEylrSHth4GB",
    "outputId": "555ae429-23fe-4448-eba4-7e0556fa31e2"
   },
   "outputs": [
    {
     "name": "stdout",
     "output_type": "stream",
     "text": [
      "predictions for test images ['9', '7', '6', '8', '6', '3', '2', '2', '0', '7', '6', '4', '0', '0', '1', '0', '3', '9', '4', '0', '4', '0', '5', '8', '9', '5', '4', '4', '6', '3', '6', '7', '2', '7', '9', '4', '8', '0', '1', '3', '0', '8', '8', '7', '7', '0', '4', '1', '7', '6', '9', '2', '4', '1', '7', '8', '2', '7', '3', '3', '1', '1', '2', '8', '0', '7', '6', '5', '8', '6', '1', '2', '9', '3', '3', '0', '4', '5', '0', '5', '8', '7', '4', '9', '8', '9', '3', '7', '8', '3', '1', '4', '0', '5', '3', '3', '6', '3', '4', '7']\n"
     ]
    },
    {
     "data": {
      "text/plain": [
       "'9768632207640010394040589544636727948013088770417692417827331128076586129330450587498937831405336347'"
      ]
     },
     "execution_count": 20,
     "metadata": {
      "tags": []
     },
     "output_type": "execute_result"
    }
   ],
   "source": [
    "predicted_class_indices=np.argmax(pred,axis=1)\n",
    "\n",
    "labels = (train_generator.class_indices)\n",
    "labels = dict((v,k) for k,v in labels.items())\n",
    "predictions = [labels[k] for k in predicted_class_indices]\n",
    "print(\"predictions for test images\" , predictions)\n",
    "\"\".join(predictions)"
   ]
  },
  {
   "cell_type": "markdown",
   "metadata": {
    "colab_type": "text",
    "id": "dGdaHPywyFqx"
   },
   "source": [
    "## Answers"
   ]
  },
  {
   "cell_type": "code",
   "execution_count": null,
   "metadata": {
    "colab": {},
    "colab_type": "code",
    "id": "zQpCORsAwB3m"
   },
   "outputs": [],
   "source": [
    "import pandas as pd\n",
    "ans_df = pd.read_csv('./submission.csv')\n",
    "ans_dict=dict(zip([name[-8:] for name in test_generator.filenames],predictions))\n",
    "ans_df['label']=ans_df['filename'].apply(lambda name:ans_dict[name])"
   ]
  },
  {
   "cell_type": "code",
   "execution_count": null,
   "metadata": {
    "colab": {},
    "colab_type": "code",
    "id": "owy8rlgJMNxE"
   },
   "outputs": [],
   "source": [
    "ans_df.to_csv('./vgg16/submission.csv',index=False)"
   ]
  },
  {
   "cell_type": "markdown",
   "metadata": {
    "colab_type": "text",
    "id": "7aI0hcAPjnIn"
   },
   "source": [
    "## Save and load model"
   ]
  },
  {
   "cell_type": "code",
   "execution_count": null,
   "metadata": {
    "colab": {},
    "colab_type": "code",
    "id": "6_jSUb11jomH"
   },
   "outputs": [],
   "source": [
    "model_structure=model.to_json()\n",
    "with open(\"./vgg16/model.json\", \"w\") as json_file:\n",
    "    json_file.write(model_structure)\n",
    "model.save_weights('./vgg16/weight.h5')"
   ]
  },
  {
   "cell_type": "code",
   "execution_count": 8,
   "metadata": {
    "colab": {},
    "colab_type": "code",
    "id": "8aMEDtdxkTTu"
   },
   "outputs": [
    {
     "name": "stderr",
     "output_type": "stream",
     "text": [
      "WARNING: Logging before flag parsing goes to stderr.\n",
      "W0208 21:12:03.690408 4591381952 deprecation_wrapper.py:119] From /Library/Frameworks/Python.framework/Versions/3.7/lib/python3.7/site-packages/keras/backend/tensorflow_backend.py:541: The name tf.placeholder is deprecated. Please use tf.compat.v1.placeholder instead.\n",
      "\n",
      "W0208 21:12:03.803282 4591381952 deprecation_wrapper.py:119] From /Library/Frameworks/Python.framework/Versions/3.7/lib/python3.7/site-packages/keras/backend/tensorflow_backend.py:4432: The name tf.random_uniform is deprecated. Please use tf.random.uniform instead.\n",
      "\n",
      "W0208 21:12:03.871707 4591381952 deprecation_wrapper.py:119] From /Library/Frameworks/Python.framework/Versions/3.7/lib/python3.7/site-packages/keras/backend/tensorflow_backend.py:4267: The name tf.nn.max_pool is deprecated. Please use tf.nn.max_pool2d instead.\n",
      "\n",
      "W0208 21:12:04.115999 4591381952 deprecation_wrapper.py:119] From /Library/Frameworks/Python.framework/Versions/3.7/lib/python3.7/site-packages/keras/backend/tensorflow_backend.py:66: The name tf.get_default_graph is deprecated. Please use tf.compat.v1.get_default_graph instead.\n",
      "\n",
      "W0208 21:12:04.117304 4591381952 deprecation_wrapper.py:119] From /Library/Frameworks/Python.framework/Versions/3.7/lib/python3.7/site-packages/keras/backend/tensorflow_backend.py:148: The name tf.placeholder_with_default is deprecated. Please use tf.compat.v1.placeholder_with_default instead.\n",
      "\n",
      "W0208 21:12:04.130693 4591381952 deprecation.py:506] From /Library/Frameworks/Python.framework/Versions/3.7/lib/python3.7/site-packages/keras/backend/tensorflow_backend.py:3733: calling dropout (from tensorflow.python.ops.nn_ops) with keep_prob is deprecated and will be removed in a future version.\n",
      "Instructions for updating:\n",
      "Please use `rate` instead of `keep_prob`. Rate should be set to `rate = 1 - keep_prob`.\n",
      "W0208 21:12:04.520688 4591381952 deprecation_wrapper.py:119] From /Library/Frameworks/Python.framework/Versions/3.7/lib/python3.7/site-packages/keras/backend/tensorflow_backend.py:190: The name tf.get_default_session is deprecated. Please use tf.compat.v1.get_default_session instead.\n",
      "\n"
     ]
    }
   ],
   "source": [
    "json_file = open('./vgg16/model.json', 'r')\n",
    "loaded_model_json = json_file.read()\n",
    "json_file.close()\n",
    "model = model_from_json(loaded_model_json)\n",
    "model.load_weights(\"./vgg16/weight.h5\")"
   ]
  },
  {
   "cell_type": "markdown",
   "metadata": {
    "colab_type": "text",
    "id": "kth0LEp1rDY_"
   },
   "source": [
    "# Transferlearning ResNet152V2 model"
   ]
  },
  {
   "cell_type": "markdown",
   "metadata": {
    "colab_type": "text",
    "id": "Jn0QAXGnwScO"
   },
   "source": [
    "## Import image by ImageDataGenerators"
   ]
  },
  {
   "cell_type": "code",
   "execution_count": 5,
   "metadata": {
    "colab": {
     "base_uri": "https://localhost:8080/",
     "height": 52
    },
    "colab_type": "code",
    "executionInfo": {
     "elapsed": 1813,
     "status": "ok",
     "timestamp": 1581097622198,
     "user": {
      "displayName": "Oscar Yiu",
      "photoUrl": "",
      "userId": "12083614802581609051"
     },
     "user_tz": -480
    },
    "id": "zQwrkCxAxRcX",
    "outputId": "e3958cfd-4fd6-466d-f273-0a69876846df"
   },
   "outputs": [
    {
     "name": "stdout",
     "output_type": "stream",
     "text": [
      "Found 49929 images belonging to 10 classes.\n",
      "Found 100 images belonging to 1 classes.\n"
     ]
    }
   ],
   "source": [
    "train_datagen = ImageDataGenerator(\n",
    "        rotation_range=20,\n",
    "        zoom_range=0.15,\n",
    "        width_shift_range=0.2,\n",
    "        height_shift_range=0.2,\n",
    "        shear_range=0.15,\n",
    "        horizontal_flip=True,\n",
    "        fill_mode=\"nearest\",\n",
    "        preprocessing_function=resnet_v2.preprocess_input)\n",
    "test_datagen = ImageDataGenerator(preprocessing_function=resnet_v2.preprocess_input)\n",
    "\n",
    "train_generator = train_datagen.flow_from_directory(\n",
    "    directory=r\"./train\",\n",
    "    target_size=(64, 64),\n",
    "    color_mode=\"rgb\",\n",
    "    batch_size=10,\n",
    "    class_mode=\"categorical\",\n",
    "    shuffle=True,\n",
    "    seed=42\n",
    ")\n",
    "\n",
    "test_generator = test_datagen.flow_from_directory(\n",
    "    directory=r\"./test\",\n",
    "    target_size=(64, 64),\n",
    "    color_mode=\"rgb\",\n",
    "    batch_size=1,\n",
    "    class_mode=None,\n",
    "    shuffle=False,\n",
    "    seed=42\n",
    ")\n",
    "\n",
    "STEP_SIZE_TRAIN=train_generator.n//train_generator.batch_size\n",
    "STEP_SIZE_TEST=test_generator.n"
   ]
  },
  {
   "cell_type": "markdown",
   "metadata": {
    "colab_type": "text",
    "id": "seOciFJ1yQK3"
   },
   "source": [
    "## Define Model"
   ]
  },
  {
   "cell_type": "code",
   "execution_count": 6,
   "metadata": {
    "colab": {
     "base_uri": "https://localhost:8080/",
     "height": 510
    },
    "colab_type": "code",
    "executionInfo": {
     "elapsed": 23214,
     "status": "ok",
     "timestamp": 1581097655190,
     "user": {
      "displayName": "Oscar Yiu",
      "photoUrl": "",
      "userId": "12083614802581609051"
     },
     "user_tz": -480
    },
    "id": "K-H4lnTTrH8G",
    "outputId": "e384d7bf-aef8-4326-ee2d-a234d51b75e6"
   },
   "outputs": [
    {
     "name": "stdout",
     "output_type": "stream",
     "text": [
      "WARNING:tensorflow:From /usr/local/lib/python3.6/dist-packages/keras/backend/tensorflow_backend.py:66: The name tf.get_default_graph is deprecated. Please use tf.compat.v1.get_default_graph instead.\n",
      "\n",
      "WARNING:tensorflow:From /usr/local/lib/python3.6/dist-packages/keras/backend/tensorflow_backend.py:541: The name tf.placeholder is deprecated. Please use tf.compat.v1.placeholder instead.\n",
      "\n",
      "WARNING:tensorflow:From /usr/local/lib/python3.6/dist-packages/keras/backend/tensorflow_backend.py:4432: The name tf.random_uniform is deprecated. Please use tf.random.uniform instead.\n",
      "\n",
      "WARNING:tensorflow:From /usr/local/lib/python3.6/dist-packages/keras/backend/tensorflow_backend.py:4267: The name tf.nn.max_pool is deprecated. Please use tf.nn.max_pool2d instead.\n",
      "\n",
      "WARNING:tensorflow:From /usr/local/lib/python3.6/dist-packages/keras/backend/tensorflow_backend.py:190: The name tf.get_default_session is deprecated. Please use tf.compat.v1.get_default_session instead.\n",
      "\n",
      "WARNING:tensorflow:From /usr/local/lib/python3.6/dist-packages/keras/backend/tensorflow_backend.py:197: The name tf.ConfigProto is deprecated. Please use tf.compat.v1.ConfigProto instead.\n",
      "\n",
      "WARNING:tensorflow:From /usr/local/lib/python3.6/dist-packages/keras/backend/tensorflow_backend.py:203: The name tf.Session is deprecated. Please use tf.compat.v1.Session instead.\n",
      "\n",
      "WARNING:tensorflow:From /usr/local/lib/python3.6/dist-packages/keras/backend/tensorflow_backend.py:207: The name tf.global_variables is deprecated. Please use tf.compat.v1.global_variables instead.\n",
      "\n",
      "WARNING:tensorflow:From /usr/local/lib/python3.6/dist-packages/keras/backend/tensorflow_backend.py:216: The name tf.is_variable_initialized is deprecated. Please use tf.compat.v1.is_variable_initialized instead.\n",
      "\n",
      "WARNING:tensorflow:From /usr/local/lib/python3.6/dist-packages/keras/backend/tensorflow_backend.py:223: The name tf.variables_initializer is deprecated. Please use tf.compat.v1.variables_initializer instead.\n",
      "\n",
      "WARNING:tensorflow:From /usr/local/lib/python3.6/dist-packages/keras/backend/tensorflow_backend.py:2041: The name tf.nn.fused_batch_norm is deprecated. Please use tf.compat.v1.nn.fused_batch_norm instead.\n",
      "\n",
      "WARNING:tensorflow:From /usr/local/lib/python3.6/dist-packages/keras/backend/tensorflow_backend.py:148: The name tf.placeholder_with_default is deprecated. Please use tf.compat.v1.placeholder_with_default instead.\n",
      "\n",
      "WARNING:tensorflow:From /usr/local/lib/python3.6/dist-packages/keras/backend/tensorflow_backend.py:3733: calling dropout (from tensorflow.python.ops.nn_ops) with keep_prob is deprecated and will be removed in a future version.\n",
      "Instructions for updating:\n",
      "Please use `rate` instead of `keep_prob`. Rate should be set to `rate = 1 - keep_prob`.\n"
     ]
    }
   ],
   "source": [
    "base_model = resnet_v2.ResNet152V2(weights='imagenet', include_top=False, input_shape=(64,64,3))\n",
    "x = base_model.output\n",
    "x = Flatten()(x)\n",
    "x = Dense(128, activation='relu')(x)        # new FC layer, random init\n",
    "x = Dense(128, activation='relu')(x)        # new FC layer, random init\n",
    "x = Dropout(0.2)(x)\n",
    "predictions = Dense(10, activation='softmax')(x)  # 10 labels\n",
    "\n",
    "model = Model(inputs=base_model.input, outputs=predictions)\n",
    "\n",
    "for layer in base_model.layers:\n",
    "  layer.trainable = False"
   ]
  },
  {
   "cell_type": "markdown",
   "metadata": {
    "colab_type": "text",
    "id": "QYZJ5iEKyRr7"
   },
   "source": [
    "## Complie and fit model"
   ]
  },
  {
   "cell_type": "code",
   "execution_count": 7,
   "metadata": {
    "colab": {
     "base_uri": "https://localhost:8080/",
     "height": 87
    },
    "colab_type": "code",
    "executionInfo": {
     "elapsed": 583,
     "status": "ok",
     "timestamp": 1581097665793,
     "user": {
      "displayName": "Oscar Yiu",
      "photoUrl": "",
      "userId": "12083614802581609051"
     },
     "user_tz": -480
    },
    "id": "ZrxR8Tt8yXWP",
    "outputId": "e210ca17-0310-44ee-a230-86f75a813035"
   },
   "outputs": [
    {
     "name": "stdout",
     "output_type": "stream",
     "text": [
      "WARNING:tensorflow:From /usr/local/lib/python3.6/dist-packages/keras/optimizers.py:793: The name tf.train.Optimizer is deprecated. Please use tf.compat.v1.train.Optimizer instead.\n",
      "\n",
      "WARNING:tensorflow:From /usr/local/lib/python3.6/dist-packages/keras/backend/tensorflow_backend.py:3576: The name tf.log is deprecated. Please use tf.math.log instead.\n",
      "\n"
     ]
    }
   ],
   "source": [
    "#   Define model compile for basic Transfer Learning\n",
    "model.compile(optimizer='adam', loss='categorical_crossentropy', metrics=['accuracy'])"
   ]
  },
  {
   "cell_type": "code",
   "execution_count": null,
   "metadata": {
    "colab": {
     "base_uri": "https://localhost:8080/",
     "height": 1000
    },
    "colab_type": "code",
    "executionInfo": {
     "elapsed": 108287,
     "status": "error",
     "timestamp": 1580899427338,
     "user": {
      "displayName": "Oscar Yiu",
      "photoUrl": "",
      "userId": "12083614802581609051"
     },
     "user_tz": -480
    },
    "id": "ZcuzKOCtyfcj",
    "outputId": "4fd6680b-a19f-4b02-dafb-078f345350ba"
   },
   "outputs": [
    {
     "name": "stdout",
     "output_type": "stream",
     "text": [
      "0\n",
      "Epoch 1/30\n",
      "4992/4992 [==============================] - 214s 43ms/step - loss: 1.5695 - acc: 0.4579\n",
      "Epoch 2/30\n",
      "4992/4992 [==============================] - 212s 42ms/step - loss: 1.5581 - acc: 0.4614\n",
      "Epoch 3/30\n",
      "4992/4992 [==============================] - 207s 41ms/step - loss: 1.5444 - acc: 0.4651\n",
      "Epoch 4/30\n",
      "4992/4992 [==============================] - 217s 44ms/step - loss: 1.5346 - acc: 0.4712\n",
      "Epoch 5/30\n",
      "4992/4992 [==============================] - 206s 41ms/step - loss: 1.5258 - acc: 0.4726\n",
      "Epoch 6/30\n",
      "4992/4992 [==============================] - 203s 41ms/step - loss: 1.5252 - acc: 0.4735\n",
      "Epoch 7/30\n",
      "4992/4992 [==============================] - 193s 39ms/step - loss: 1.5130 - acc: 0.4800\n",
      "Epoch 8/30\n",
      "4992/4992 [==============================] - 190s 38ms/step - loss: 1.5117 - acc: 0.4812\n",
      "Epoch 9/30\n",
      "4992/4992 [==============================] - 193s 39ms/step - loss: 1.5103 - acc: 0.4822\n",
      "Epoch 10/30\n",
      "4992/4992 [==============================] - 192s 38ms/step - loss: 1.5087 - acc: 0.4834\n",
      "Epoch 11/30\n",
      "4992/4992 [==============================] - 192s 39ms/step - loss: 1.4919 - acc: 0.4887\n",
      "Epoch 12/30\n",
      "4992/4992 [==============================] - 197s 40ms/step - loss: 1.5014 - acc: 0.4847\n",
      "Epoch 13/30\n",
      "4992/4992 [==============================] - 192s 38ms/step - loss: 1.4918 - acc: 0.4919\n",
      "Epoch 14/30\n",
      "4992/4992 [==============================] - 193s 39ms/step - loss: 1.4890 - acc: 0.4913\n",
      "Epoch 15/30\n",
      "4992/4992 [==============================] - 198s 40ms/step - loss: 1.4866 - acc: 0.4916\n",
      "Epoch 16/30\n",
      "4992/4992 [==============================] - 194s 39ms/step - loss: 1.4877 - acc: 0.4919\n",
      "Epoch 17/30\n",
      "4992/4992 [==============================] - 196s 39ms/step - loss: 1.4839 - acc: 0.4922\n",
      "Epoch 18/30\n",
      "4992/4992 [==============================] - 197s 39ms/step - loss: 1.4856 - acc: 0.4931\n",
      "Epoch 19/30\n",
      "4992/4992 [==============================] - 204s 41ms/step - loss: 1.4732 - acc: 0.5005\n",
      "Epoch 20/30\n",
      "4992/4992 [==============================] - 197s 39ms/step - loss: 1.4791 - acc: 0.4954\n",
      "Epoch 21/30\n",
      "4992/4992 [==============================] - 208s 42ms/step - loss: 1.4820 - acc: 0.4959\n",
      "Epoch 22/30\n",
      "4992/4992 [==============================] - 203s 41ms/step - loss: 1.4758 - acc: 0.4973\n",
      "Epoch 23/30\n",
      "4992/4992 [==============================] - 203s 41ms/step - loss: 1.4771 - acc: 0.4978\n",
      "Epoch 24/30\n",
      "4992/4992 [==============================] - 200s 40ms/step - loss: 1.4760 - acc: 0.4991\n",
      "Epoch 25/30\n",
      "4992/4992 [==============================] - 191s 38ms/step - loss: 1.4689 - acc: 0.4989\n",
      "Epoch 26/30\n",
      "4992/4992 [==============================] - 194s 39ms/step - loss: 1.4730 - acc: 0.4998\n",
      "Epoch 27/30\n",
      "4992/4992 [==============================] - 199s 40ms/step - loss: 1.4698 - acc: 0.4989\n",
      "Epoch 28/30\n",
      "4992/4992 [==============================] - 203s 41ms/step - loss: 1.4672 - acc: 0.5016\n",
      "Epoch 29/30\n",
      "4992/4992 [==============================] - 202s 40ms/step - loss: 1.4564 - acc: 0.5040\n",
      "Epoch 30/30\n",
      "4992/4992 [==============================] - 199s 40ms/step - loss: 1.4699 - acc: 0.5009\n",
      "1\n",
      "Epoch 1/30\n",
      "4992/4992 [==============================] - 201s 40ms/step - loss: 1.4649 - acc: 0.5015\n",
      "Epoch 2/30\n",
      "4992/4992 [==============================] - 200s 40ms/step - loss: 1.4728 - acc: 0.5014\n",
      "Epoch 3/30\n",
      "4992/4992 [==============================] - 198s 40ms/step - loss: 1.4655 - acc: 0.5033\n",
      "Epoch 4/30\n",
      " 878/4992 [====>.........................] - ETA: 2:49 - loss: 1.4631 - acc: 0.4978"
     ]
    }
   ],
   "source": [
    "for i in range(100):\n",
    "  print(i)\n",
    "  model.fit_generator(\n",
    "                                generator=train_generator,\n",
    "                                steps_per_epoch=STEP_SIZE_TRAIN,\n",
    "                                epochs=30\n",
    "                            )\n",
    "  model_structure=model.to_json()\n",
    "  with open(\"./resnet/model.json\", \"w\") as json_file:\n",
    "      json_file.write(model_structure)\n",
    "  model.save_weights('./resnet/weight.h5')"
   ]
  },
  {
   "cell_type": "markdown",
   "metadata": {
    "colab_type": "text",
    "id": "oSScQ383yl3f"
   },
   "source": [
    "## Prediction"
   ]
  },
  {
   "cell_type": "code",
   "execution_count": 9,
   "metadata": {
    "colab": {
     "base_uri": "https://localhost:8080/",
     "height": 35
    },
    "colab_type": "code",
    "executionInfo": {
     "elapsed": 6948,
     "status": "ok",
     "timestamp": 1581097984994,
     "user": {
      "displayName": "Oscar Yiu",
      "photoUrl": "",
      "userId": "12083614802581609051"
     },
     "user_tz": -480
    },
    "id": "MI6fdPAQymN2",
    "outputId": "d1962bb2-7647-4c46-d90c-bff33f0537e3"
   },
   "outputs": [
    {
     "name": "stdout",
     "output_type": "stream",
     "text": [
      "100/100 [==============================] - 6s 65ms/step\n"
     ]
    }
   ],
   "source": [
    "test_generator.reset()\n",
    "pred=model.predict_generator(test_generator,\n",
    "steps=STEP_SIZE_TEST,\n",
    "verbose=1)"
   ]
  },
  {
   "cell_type": "code",
   "execution_count": 10,
   "metadata": {
    "colab": {
     "base_uri": "https://localhost:8080/",
     "height": 72
    },
    "colab_type": "code",
    "executionInfo": {
     "elapsed": 450,
     "status": "ok",
     "timestamp": 1581097986260,
     "user": {
      "displayName": "Oscar Yiu",
      "photoUrl": "",
      "userId": "12083614802581609051"
     },
     "user_tz": -480
    },
    "id": "Qo0M02-typMT",
    "outputId": "5ba71fea-aa7d-4930-ea19-1890591ae776"
   },
   "outputs": [
    {
     "name": "stdout",
     "output_type": "stream",
     "text": [
      "predictions for test images ['0', '7', '4', '9', '5', '3', '0', '2', '0', '2', '1', '7', '9', '8', '8', '0', '3', '9', '7', '0', '1', '9', '2', '0', '7', '5', '2', '4', '5', '3', '1', '7', '2', '7', '1', '2', '0', '0', '1', '5', '0', '8', '8', '2', '5', '0', '5', '9', '7', '3', '9', '2', '4', '1', '7', '9', '2', '7', '5', '8', '1', '1', '0', '8', '0', '9', '2', '5', '8', '5', '9', '2', '9', '9', '5', '0', '1', '5', '0', '5', '0', '7', '1', '9', '0', '9', '5', '5', '9', '0', '1', '4', '0', '5', '5', '5', '1', '3', '7', '7']\n"
     ]
    },
    {
     "data": {
      "text/plain": [
       "'0749530202179880397019207524531727120015088250597392417927581108092585929950150507190955901405551377'"
      ]
     },
     "execution_count": 10,
     "metadata": {
      "tags": []
     },
     "output_type": "execute_result"
    }
   ],
   "source": [
    "predicted_class_indices=np.argmax(pred,axis=1)\n",
    "\n",
    "labels = (train_generator.class_indices)\n",
    "labels = dict((v,k) for k,v in labels.items())\n",
    "predictions = [labels[k] for k in predicted_class_indices]\n",
    "print(\"predictions for test images\" , predictions)\n",
    "\"\".join(predictions)"
   ]
  },
  {
   "cell_type": "markdown",
   "metadata": {
    "colab_type": "text",
    "id": "7JPB0EUDyrOR"
   },
   "source": [
    "## Answers"
   ]
  },
  {
   "cell_type": "code",
   "execution_count": null,
   "metadata": {
    "colab": {},
    "colab_type": "code",
    "id": "6ooxJHsKytef"
   },
   "outputs": [],
   "source": [
    "import pandas as pd\n",
    "ans_df = pd.read_csv('./submission.csv')\n",
    "ans_dict=dict(zip([name[-8:] for name in test_generator.filenames],predictions))\n",
    "ans_df['label']=ans_df['filename'].apply(lambda name:ans_dict[name])"
   ]
  },
  {
   "cell_type": "markdown",
   "metadata": {
    "colab_type": "text",
    "id": "cA8M9GkZ0Nqt"
   },
   "source": [
    "## Save and load model"
   ]
  },
  {
   "cell_type": "code",
   "execution_count": null,
   "metadata": {
    "colab": {
     "base_uri": "https://localhost:8080/",
     "height": 224
    },
    "colab_type": "code",
    "executionInfo": {
     "elapsed": 579,
     "status": "error",
     "timestamp": 1581031482978,
     "user": {
      "displayName": "Oscar Yiu",
      "photoUrl": "",
      "userId": "12083614802581609051"
     },
     "user_tz": -480
    },
    "id": "fBiEWVUT0OEY",
    "outputId": "1694fbe2-6757-4389-adeb-390a9d04788f"
   },
   "outputs": [
    {
     "ename": "NameError",
     "evalue": "ignored",
     "output_type": "error",
     "traceback": [
      "\u001b[0;31m---------------------------------------------------------------------------\u001b[0m",
      "\u001b[0;31mNameError\u001b[0m                                 Traceback (most recent call last)",
      "\u001b[0;32m<ipython-input-12-7b14be99ff4c>\u001b[0m in \u001b[0;36m<module>\u001b[0;34m()\u001b[0m\n\u001b[0;32m----> 1\u001b[0;31m \u001b[0mmodel_structure\u001b[0m\u001b[0;34m=\u001b[0m\u001b[0mloaded_model\u001b[0m\u001b[0;34m.\u001b[0m\u001b[0mto_json\u001b[0m\u001b[0;34m(\u001b[0m\u001b[0;34m)\u001b[0m\u001b[0;34m\u001b[0m\u001b[0;34m\u001b[0m\u001b[0m\n\u001b[0m\u001b[1;32m      2\u001b[0m \u001b[0;32mwith\u001b[0m \u001b[0mopen\u001b[0m\u001b[0;34m(\u001b[0m\u001b[0;34m\"/content/drive/My Drive/Manulife_IRD_challenge/resnet_v2/model.json\"\u001b[0m\u001b[0;34m,\u001b[0m \u001b[0;34m\"w\"\u001b[0m\u001b[0;34m)\u001b[0m \u001b[0;32mas\u001b[0m \u001b[0mjson_file\u001b[0m\u001b[0;34m:\u001b[0m\u001b[0;34m\u001b[0m\u001b[0;34m\u001b[0m\u001b[0m\n\u001b[1;32m      3\u001b[0m     \u001b[0mjson_file\u001b[0m\u001b[0;34m.\u001b[0m\u001b[0mwrite\u001b[0m\u001b[0;34m(\u001b[0m\u001b[0mmodel_structure\u001b[0m\u001b[0;34m)\u001b[0m\u001b[0;34m\u001b[0m\u001b[0;34m\u001b[0m\u001b[0m\n\u001b[1;32m      4\u001b[0m \u001b[0mloaded_model\u001b[0m\u001b[0;34m.\u001b[0m\u001b[0msave_weights\u001b[0m\u001b[0;34m(\u001b[0m\u001b[0;34m'/content/drive/My Drive/Manulife_IRD_challenge/resnet_v2/weight.h5'\u001b[0m\u001b[0;34m)\u001b[0m\u001b[0;34m\u001b[0m\u001b[0;34m\u001b[0m\u001b[0m\n",
      "\u001b[0;31mNameError\u001b[0m: name 'loaded_model' is not defined"
     ]
    }
   ],
   "source": [
    "model_structure=loaded_model.to_json()\n",
    "with open(\"./resnet/model.json\", \"w\") as json_file:\n",
    "    json_file.write(model_structure)\n",
    "loaded_model.save_weights('./resnet/weight.h5')"
   ]
  },
  {
   "cell_type": "code",
   "execution_count": null,
   "metadata": {
    "colab": {},
    "colab_type": "code",
    "id": "6NuU_a3So4YJ"
   },
   "outputs": [],
   "source": [
    "json_file = open('./resnet/model.json', 'r')\n",
    "loaded_model_json = json_file.read()\n",
    "json_file.close()\n",
    "model = model_from_json(loaded_model_json)\n",
    "\n",
    "# load weights into new model\n",
    "model.load_weights(\"./resnet/weight.h5\")"
   ]
  },
  {
   "cell_type": "code",
   "execution_count": null,
   "metadata": {
    "colab": {},
    "colab_type": "code",
    "id": "G_2-X2thctzD"
   },
   "outputs": [],
   "source": []
  }
 ],
 "metadata": {
  "accelerator": "GPU",
  "colab": {
   "name": "Manulife.ipynb",
   "provenance": []
  },
  "kernelspec": {
   "display_name": "Python 3",
   "language": "python",
   "name": "python3"
  },
  "language_info": {
   "codemirror_mode": {
    "name": "ipython",
    "version": 3
   },
   "file_extension": ".py",
   "mimetype": "text/x-python",
   "name": "python",
   "nbconvert_exporter": "python",
   "pygments_lexer": "ipython3",
   "version": "3.7.3"
  }
 },
 "nbformat": 4,
 "nbformat_minor": 4
}
